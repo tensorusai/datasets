{
  "cells": [
    {
      "cell_type": "markdown",
      "metadata": {},
      "source": [
        "# Loading the Demo Dataset"
      ]
    },
    {
      "cell_type": "markdown",
      "metadata": {},
      "source": [
        "Install dependencies with `pip install -r requirements.txt` and run `dvc pull` from the repository root to download `tensors.npy` before executing these cells."
      ]
    },
    {
      "cell_type": "markdown",
      "metadata": {},
      "source": [
        "If the optional `tensorus` package cannot be installed, use standard PyTorch operations and skip the final cell that imports it."
      ]
    },
    {
      "cell_type": "code",
      "execution_count": null,
      "metadata": {},
      "outputs": [],
      "source": [
        "from pathlib import Path\n",
        "import numpy as np\n",
        "\n",
        "data_path = Path('..') / 'data' / 'tensors.npy'\n",
        "tensors = np.load(data_path)\n",
        "tensors"
      ]
    },
    {
      "cell_type": "code",
      "execution_count": null,
      "metadata": {},
      "outputs": [],
      "source": [
        "import torch\n",
        "from tensorus.tensor_storage import TensorStorage\n",
        "from tensorus.nql_agent import NQLAgent\n",
        "\n",
        "storage = TensorStorage()\n",
        "storage.create_dataset('demo')\n",
        "for t in tensors:\n",
        "    storage.insert('demo', torch.tensor([t]))\n",
        "\n",
        "agent = NQLAgent(storage)\n",
        "agent.process_query('count records in demo')"
      ]
    }
  ],
  "metadata": {
    "kernelspec": {
      "display_name": "Python 3",
      "language": "python",
      "name": "python3"
    },
    "language_info": {
      "name": "python",
      "version": "3.12"
    }
  },
  "nbformat": 4,
  "nbformat_minor": 5
}
