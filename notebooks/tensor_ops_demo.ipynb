{
  "cells": [
    {
      "cell_type": "markdown",
      "metadata": {},
      "source": [
        "# Processing with TensorOps"
      ]
    },
    {
      "cell_type": "markdown",
      "metadata": {},
      "source": [
        "Install dependencies with `pip install -r requirements.txt` and run `dvc pull` to obtain the example data before executing these cells."
      ]
    },
    {
      "cell_type": "markdown",
      "metadata": {},
      "source": [
        "If `tensorus` is not available you can replicate the tensor operations using plain PyTorch functions."
      ]
    },
    {
      "cell_type": "code",
      "execution_count": null,
      "metadata": {},
      "outputs": [],
      "source": [
        "from pathlib import Path\n",
        "import numpy as np\n",
        "import torch\n",
        "from tensorus.tensor_ops import TensorOps\n",
        "\n",
        "data_path = Path('..') / 'data' / 'tensors.npy'\n",
        "tensors = np.load(data_path)\n",
        "t = torch.from_numpy(tensors)\n",
        "TensorOps.mean(t)"
      ]
    },
    {
      "cell_type": "code",
      "execution_count": null,
      "metadata": {},
      "outputs": [],
      "source": [
        "TensorOps.add(t, 1)"
      ]
    }
  ],
  "metadata": {
    "kernelspec": {
      "display_name": "Python 3",
      "language": "python",
      "name": "python3"
    },
    "language_info": {
      "name": "python",
      "version": "3.12"
    }
  },
  "nbformat": 4,
  "nbformat_minor": 5
}
